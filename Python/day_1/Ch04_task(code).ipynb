{
 "cells": [
  {
   "cell_type": "markdown",
   "metadata": {
    "id": "WXEwMsfUct7U"
   },
   "source": [
    "안녕하세요.<br><br>\n",
    "수강생 여러분~! Chapter04 수업은 잘 들으셨나요?\n",
    "\n",
    "Chapter04의 수업 내용을 바탕으로 아래 문제를 풀어주시면 됩니다.\n",
    "\n",
    "<br>\n",
    "\n",
    "[**답변 입력 방법**]\n",
    "\n",
    "문제 아래에 있는 코드 입력창에 정답코드를 작성하신 후  __▷ 버튼을 클릭해 코드를 실행__ 해보세요<br>\n",
    "<br>"
   ]
  },
  {
   "cell_type": "markdown",
   "metadata": {
    "id": "qoyC9wF-3hvs"
   },
   "source": [
    "-----"
   ]
  },
  {
   "cell_type": "markdown",
   "metadata": {
    "id": "mbdhusALcKEa"
   },
   "source": [
    "<br>\n",
    "\n",
    "__[문제0]__\n",
    "\n",
    "한 변의 길이가 5인 정사각형이 있습니다.\n",
    "\n",
    "정사각형의 넓이를 구하세요.\n",
    "<br>"
   ]
  },
  {
   "cell_type": "code",
   "execution_count": null,
   "metadata": {
    "colab": {
     "base_uri": "https://localhost:8080/"
    },
    "executionInfo": {
     "elapsed": 24,
     "status": "ok",
     "timestamp": 1744787736031,
     "user": {
      "displayName": "이설",
      "userId": "03239844998832066270"
     },
     "user_tz": -540
    },
    "id": "8n4Eyf47cKEa",
    "outputId": "ae0167f2-a3d5-4773-91f0-e94a98b564ef"
   },
   "outputs": [
    {
     "data": {
      "text/plain": [
       "25"
      ]
     },
     "execution_count": 1,
     "metadata": {},
     "output_type": "execute_result"
    }
   ],
   "source": [
    "5 * 5"
   ]
  },
  {
   "cell_type": "markdown",
   "metadata": {
    "id": "fv5AkVS4cKEa"
   },
   "source": [
    "<br>\n",
    "\n",
    "__[문제1]__\n",
    "\n",
    "오즈 코딩 스쿨 백엔드 8기 과정에 참여한 수강생 중 5명의 수강생이 자율적으로 스터디 그룹을 결성했습니다.\n",
    "\n",
    "스터디 그룹 내에는 한 주간 배운 내용으로 매주 쪽지 시험을 보는 룰이 있습니다.\n",
    "\n",
    "이 쪽지 시험의 평균이 70점이 넘으면 주말 스터디는 없습니다.\n",
    "\n",
    "이들의 평균 점수를 대신 계산해주세요.\n",
    "\n",
    "<br>\n",
    "A: 65, B: 75, C: 50, D: 80, E: 60\n",
    "\n",
    "<br>"
   ]
  },
  {
   "cell_type": "code",
   "execution_count": null,
   "metadata": {
    "colab": {
     "base_uri": "https://localhost:8080/"
    },
    "executionInfo": {
     "elapsed": 42,
     "status": "ok",
     "timestamp": 1744787889279,
     "user": {
      "displayName": "이설",
      "userId": "03239844998832066270"
     },
     "user_tz": -540
    },
    "id": "qo5CRJURcKEb",
    "outputId": "2208155d-0ebe-4db2-98f7-3db1d8279c9a"
   },
   "outputs": [
    {
     "name": "stdout",
     "output_type": "stream",
     "text": [
      "평균 점수: 66.0\n"
     ]
    }
   ],
   "source": [
    "scores = [65, 75, 50, 80, 60]\n",
    "\n",
    "average = sum(scores) / len(scores)\n",
    "\n",
    "print(\"평균 점수:\", average)"
   ]
  },
  {
   "cell_type": "markdown",
   "metadata": {
    "id": "3nW1D_o2cKEc"
   },
   "source": [
    "__Tips__\n",
    "\n",
    "\n",
    " **신체질량지수(BMI)를 통해 비만도를 대략적으로 파악해 볼 수 있습니다.<br>\n",
    " 첨부된 그림에 있는 계산식을 파이썬 코드로 작성해보세요**\n",
    "\n",
    "\n",
    "- 단위를 고려하세요 !"
   ]
  },
  {
   "cell_type": "code",
   "execution_count": null,
   "metadata": {
    "colab": {
     "base_uri": "https://localhost:8080/"
    },
    "executionInfo": {
     "elapsed": 4,
     "status": "ok",
     "timestamp": 1744788098442,
     "user": {
      "displayName": "이설",
      "userId": "03239844998832066270"
     },
     "user_tz": -540
    },
    "id": "74wtVQFFc_h1",
    "outputId": "513b1d49-ac30-42c4-ae97-45292195223c"
   },
   "outputs": [
    {
     "data": {
      "text/plain": [
       "28.39506172839506"
      ]
     },
     "execution_count": 5,
     "metadata": {},
     "output_type": "execute_result"
    }
   ],
   "source": [
    "92 / (1.8 ** 2)"
   ]
  },
  {
   "cell_type": "markdown",
   "metadata": {
    "id": "3uK_auXYdgk2"
   },
   "source": [
    "<br>__[문제3]__\n",
    "\n",
    "밑변과 높이가 주어졌을때 피타고라스 정의를 이용해 빗면을 구할 수 있습니다.\n",
    "\n",
    "아래 주어진 밑변과 높이를 이용해 빗면을 구해주세요\n",
    "\n",
    "\n",
    "\n",
    "\n",
    "<br>\n",
    "\n",
    "__Tips__\n",
    "\n",
    "\n",
    "- 피타고라스 정의\n",
    "\n",
    "높이(a) : 13cm, 밑변(b) : 9cm,  빗면(c) : ?"
   ]
  },
  {
   "cell_type": "code",
   "execution_count": null,
   "metadata": {
    "colab": {
     "base_uri": "https://localhost:8080/"
    },
    "executionInfo": {
     "elapsed": 43,
     "status": "ok",
     "timestamp": 1744788276263,
     "user": {
      "displayName": "이설",
      "userId": "03239844998832066270"
     },
     "user_tz": -540
    },
    "id": "9kvBxa6PdhgA",
    "outputId": "324f26e8-03e7-4e13-df5c-762fc8c68ae2"
   },
   "outputs": [
    {
     "data": {
      "text/plain": [
       "15.811388300841896"
      ]
     },
     "execution_count": 6,
     "metadata": {},
     "output_type": "execute_result"
    }
   ],
   "source": [
    "((9 ** 2) + (13 ** 2)) ** 0.5"
   ]
  },
  {
   "cell_type": "markdown",
   "metadata": {
    "id": "2Jte2VLKdiPm"
   },
   "source": [
    "__[문제4]__\n",
    "\n",
    "쉬지도 않고 일하는 직장인 오즈씨는 3년만에 첫 성과급으로 2500만원을 받았습니다.\n",
    "\n",
    "연이율 6.15%의 고정금리 상품에 예금하려고 합니다.\n",
    "\n",
    "3년 동안 넣어두면 원금을 제외한 이자가 얼마나 되는지 계산해 주세요.\n",
    "\n",
    "\n",
    "<br>\n",
    "\n",
    "__Tips__\n",
    "\n",
    "\n",
    "- 이자 지급 방식은 매년 원금 기준으로 지급되는 단리 방식입니다. 단리 방식 계산식을 검색해보세요!)\n",
    "\n",
    "원금 25000000원, 연이율 6.15%, 기간 : 3년"
   ]
  },
  {
   "cell_type": "code",
   "execution_count": null,
   "metadata": {
    "colab": {
     "base_uri": "https://localhost:8080/"
    },
    "executionInfo": {
     "elapsed": 4,
     "status": "ok",
     "timestamp": 1744788340192,
     "user": {
      "displayName": "이설",
      "userId": "03239844998832066270"
     },
     "user_tz": -540
    },
    "id": "2RsrFDhPcKEd",
    "outputId": "e73aa3c3-691d-44a7-e22e-d34cb2173b58"
   },
   "outputs": [
    {
     "data": {
      "text/plain": [
       "4612500.0"
      ]
     },
     "execution_count": 7,
     "metadata": {},
     "output_type": "execute_result"
    }
   ],
   "source": [
    "25000000 * 0.0615 * 3"
   ]
  },
  {
   "cell_type": "markdown",
   "metadata": {
    "id": "64wWyoNacKEd"
   },
   "source": [
    "## 도전! 신비의 섬 탐험\n",
    "\n",
    "\n",
    "\n",
    "### [배경 이야기]\n",
    "\n",
    "탐험가인 당신은 신비의 섬에 도착했습니다.\n",
    "\n",
    "\n",
    "이 섬에는 숨겨진 보물이 있으며, 이를 찾기 위해 여러 도전 과제를 해결해야 합니다.\n",
    "\n",
    "\n",
    "섬에는 알 수 없는 외계인이 당신을 쫓아오고 있어 모든 도전을 신속하게 해결하고 섬을 탈출해야 합니다.\n",
    "\n",
    "\n",
    "<br>\n",
    "\n",
    "### [문제 풀이 팁]\n",
    "\n",
    "신비의 섬을 나가기 위해 필요한 비밀번호를 변수에 담아 놓는다면 번거로운 계산 과정이 줄어듭니다.\n",
    "\n",
    "\n",
    "- 아직 변수에 대해 배운 적이 없다면?\n",
    "\n",
    "\n",
    "__Chapter02 강의 예습 혹은 검색을 통해 간단한 개념을 파악할 수 있습니다!__\n",
    "\n",
    "\n",
    "<br>\n",
    "\n",
    "##### __<신비의 섬 탐험> 문제는 성장을 위해 난이도가 살짝 높게 작성되었기 때문에 어려울 수 있지만 도전해보시길 바랍니다 :)__\n",
    "\n",
    "\n",
    "\n",
    "<br>"
   ]
  },
  {
   "cell_type": "markdown",
   "metadata": {
    "id": "RcUJu0jPcKEd"
   },
   "source": [
    "__[문제 1: 입구의 수수께끼]__\n",
    "\n",
    "<br>\n",
    "\n",
    "섬의 입구에 도착한 당신은 좋지 않은 느낌을 받습니다. 무언가 비릿한 냄새가 여기저기에서 납니다.\n",
    "\n",
    "아마도 나보다 앞서 도착한 도전자들의 시체가 썩는 냄새인 것 같습니다.\n",
    "\n",
    "지금...누군가 당신을 지켜보고 있습니다. 한시라도 빠르게 이 섬을 탈출해야 합니다.\n",
    "\n",
    "우선 이 거대한 돌문을 열고 섬의 더 깊숙한 곳으로 들어가야 합니다. 돌문을 열려면 두 개의 열쇠 숫자를 더해야 합니다.\n",
    "\n",
    "열쇠 숫자는 14와 29입니다.\n",
    "\n",
    "돌문을 여는 숫자를 구해주세요."
   ]
  },
  {
   "cell_type": "code",
   "execution_count": null,
   "metadata": {
    "colab": {
     "base_uri": "https://localhost:8080/"
    },
    "executionInfo": {
     "elapsed": 7,
     "status": "ok",
     "timestamp": 1744788409086,
     "user": {
      "displayName": "이설",
      "userId": "03239844998832066270"
     },
     "user_tz": -540
    },
    "id": "2i_BGgoQcKEd",
    "outputId": "8fd874c1-61df-41e2-a5ec-744b5a68801e"
   },
   "outputs": [
    {
     "data": {
      "text/plain": [
       "43"
      ]
     },
     "execution_count": 8,
     "metadata": {},
     "output_type": "execute_result"
    }
   ],
   "source": [
    "14 + 29"
   ]
  },
  {
   "cell_type": "markdown",
   "metadata": {
    "id": "znxZhUiFcKEd"
   },
   "source": [
    "<br>\n",
    "\n",
    "__[문제 2: 첫 번째 강의 다리]__\n",
    "\n",
    "<br>\n",
    "\n",
    "\n",
    "\n",
    "돌문을 지나자 거친 강물이 흐르는 강이 나타났습니다.\n",
    "\n",
    "아주 낡은 나무 다리가 힘겹게 메달려 있습니다.\n",
    "\n",
    "당장이라도 무너질 것 같지만 이 다리 말고는 반대편으로 갈 수 있는 길이 보이지 않습니다.\n",
    "\n",
    "무언가 불길한 기운이 계속 가까워지는 것만 같아 당신 빠르게 다리를 건너야 합니다.\n",
    "\n",
    "다리는 50kg 이상 버티지 못하기 때문에 68kg인 당신은 무게를 줄여야 합니다.\n",
    "\n",
    "방금 전 돌문을 통과하면서 얻은 마법 룬을 이용해 무게를 줄일 수 있습니다.\n",
    "\n",
    "다리를 건너기 위해 줄여야 할 최소 무게를 구해주세요. (이상, 이하, 초과, 미만은 신경쓰지 않습니다!)\n",
    "\n",
    "\n",
    "<br>"
   ]
  },
  {
   "cell_type": "code",
   "execution_count": null,
   "metadata": {
    "colab": {
     "base_uri": "https://localhost:8080/"
    },
    "executionInfo": {
     "elapsed": 42,
     "status": "ok",
     "timestamp": 1744788486266,
     "user": {
      "displayName": "이설",
      "userId": "03239844998832066270"
     },
     "user_tz": -540
    },
    "id": "pLxplGHVcKEd",
    "outputId": "c22eb3e7-c39c-4560-82f7-53ac6a6f2c23"
   },
   "outputs": [
    {
     "data": {
      "text/plain": [
       "18"
      ]
     },
     "execution_count": 9,
     "metadata": {},
     "output_type": "execute_result"
    }
   ],
   "source": [
    "68 - 50"
   ]
  },
  {
   "cell_type": "markdown",
   "metadata": {
    "id": "dScJeG_qcKEe"
   },
   "source": [
    "\n",
    "\n",
    "<br>\n",
    "\n",
    "__[문제 3: 숲 속의 고목나무]__\n",
    "\n",
    "<br>\n",
    "\n",
    "\n",
    "\n",
    "첫 번째 강을 건너자 으스스한 숲 속에 들어섰습니다.\n",
    "\n",
    "귀를 찢는 울음소리가 숲 속에 울려 퍼집니다. 당신은 바로 오래된 고목나무 숲으로 몸을 숨깁니다.\n",
    "\n",
    "숲 깊이 들어가자 고목 나무에 걸린 현판이 보입니다.\n",
    "\n",
    "\"나무의 나이를 구하고 연못으로 가라\"\n",
    "\n",
    "나무의 나이를 구하기 위해서는 4년마다 한 번의 나이테가 생깁니다.\n",
    "\n",
    "돌문을 열때 사용한 숫자를 나이테 개수로 사용하여 나무의 나이를 구하세요.\n",
    "\n"
   ]
  },
  {
   "cell_type": "markdown",
   "metadata": {
    "id": "1sYZG035cKEe"
   },
   "source": [
    "__Tips__\n",
    "- 문제 1의 결과값을 참고하세요 !"
   ]
  },
  {
   "cell_type": "code",
   "execution_count": null,
   "metadata": {
    "colab": {
     "base_uri": "https://localhost:8080/"
    },
    "executionInfo": {
     "elapsed": 3,
     "status": "ok",
     "timestamp": 1744788510071,
     "user": {
      "displayName": "이설",
      "userId": "03239844998832066270"
     },
     "user_tz": -540
    },
    "id": "WdQAVAwHcKEe",
    "outputId": "7c94cfe9-d090-418f-d805-791d8367880a"
   },
   "outputs": [
    {
     "data": {
      "text/plain": [
       "172"
      ]
     },
     "execution_count": 10,
     "metadata": {},
     "output_type": "execute_result"
    }
   ],
   "source": [
    "43 * 4"
   ]
  },
  {
   "cell_type": "markdown",
   "metadata": {
    "id": "HKkwa4u-cKEe"
   },
   "source": [
    "<br>\n",
    "\n",
    "__[문제 4: 숲 속의 마법 연못]__\n",
    "\n",
    "<br>\n",
    "\n",
    "\n",
    "\n",
    "고목나무를 지나자 신비로운 마법 연못이 나타났습니다.\n",
    "\n",
    "연못 속에는 불가사의한 에너지가 흐르고 있습니다.\n",
    "\n",
    "이 에너지를 이용하면 보물을 찾는 데 필요한 단서를 얻을 수 있습니다.\n",
    "\n",
    "연못의 깊이를 측정하려면 나무의 나이를 이용해야 합니다.\n",
    "\n",
    "나무의 나이가 172살이고, 연못의 깊이는 나무 나이의 1/4입니다.\n",
    "\n",
    "연못의 깊이를 구하세요.\n",
    "\n",
    "<br>\n",
    "\n"
   ]
  },
  {
   "cell_type": "code",
   "execution_count": null,
   "metadata": {
    "colab": {
     "base_uri": "https://localhost:8080/"
    },
    "executionInfo": {
     "elapsed": 3,
     "status": "ok",
     "timestamp": 1744788520791,
     "user": {
      "displayName": "이설",
      "userId": "03239844998832066270"
     },
     "user_tz": -540
    },
    "id": "hL_HFP2AcKEe",
    "outputId": "e5b4240f-39e6-4cf6-9004-af0719fe17de"
   },
   "outputs": [
    {
     "data": {
      "text/plain": [
       "43.0"
      ]
     },
     "execution_count": 11,
     "metadata": {},
     "output_type": "execute_result"
    }
   ],
   "source": [
    "172 / 4"
   ]
  },
  {
   "cell_type": "markdown",
   "metadata": {
    "id": "mJaGff3ecKEe"
   },
   "source": [
    "<br>\n",
    "\n",
    "__[문제 5: 사원의 입구]__\n",
    "\n",
    "<br>\n",
    "\n",
    "\n",
    "\n",
    "연못을 지나니 고대 사원이 나타났습니다. 사원의 입구에는 비밀번호를 입력해야 합니다.\n",
    "\n",
    "비밀번호는 3자리 수로, 첫 번째 자리는 5, 두 번째 자리는 돌문을 여는 숫자의 십의 자리 수, 세 번째 자리는 돌문을 여는 숫자의 일의 자리 수의 3분의 1입니다.\n",
    "\n",
    "비밀번호를 구하세요.\n",
    "\n",
    "<br>"
   ]
  },
  {
   "cell_type": "code",
   "execution_count": null,
   "metadata": {
    "id": "UM03W9nvcKEe"
   },
   "outputs": [],
   "source": [
    "print(\"password:\", str(5) + str(4) + str(int(3/3)))"
   ]
  },
  {
   "cell_type": "markdown",
   "metadata": {
    "id": "0-d1B1yicKEe"
   },
   "source": [
    "<br>\n",
    "\n",
    "__[문제 6: 비밀의 동굴]__\n",
    "\n",
    "<br>\n",
    "\n",
    "사원 내부에 비밀의 동굴로 이어지는 통로가 있습니다.\n",
    "\n",
    "무언가 쿵 하고 넘어지는 소리가 들렸습니다. 신경을 곤두세우는 까마귀 소리가 여기저기서 울려 퍼집니다.\n",
    "\n",
    "주변을 멤돌던 존재가 사원에 진입한것 같습니다.\n",
    "\n",
    "어서 동굴을 벗어나야할 것 같습니다.\n",
    "\n",
    "동굴을 열려면 암호를 풀어야 합니다. 암호는 돌문을 열때 사용한 숫자의 제곱근과 같습니다.\n",
    "\n",
    "암호를 구하세요.\n",
    "\n",
    "<br>"
   ]
  },
  {
   "cell_type": "code",
   "execution_count": null,
   "metadata": {
    "colab": {
     "base_uri": "https://localhost:8080/"
    },
    "executionInfo": {
     "elapsed": 48,
     "status": "ok",
     "timestamp": 1744788725620,
     "user": {
      "displayName": "이설",
      "userId": "03239844998832066270"
     },
     "user_tz": -540
    },
    "id": "FtXfEIuZcKEe",
    "outputId": "b00ee143-9017-4e40-f519-a13e204ff837"
   },
   "outputs": [
    {
     "data": {
      "text/plain": [
       "6.557438524302"
      ]
     },
     "execution_count": 12,
     "metadata": {},
     "output_type": "execute_result"
    }
   ],
   "source": [
    "43  ** 0.5"
   ]
  },
  {
   "cell_type": "markdown",
   "metadata": {
    "id": "R35vFsrycKEe"
   },
   "source": [
    "<br>\n",
    "\n",
    "__[문제 7: 해변의 파도]__\n",
    "\n",
    "<br>\n",
    "\n",
    "\n",
    "비밀의 동굴을 지나 해변에 도착했습니다.\n",
    "\n",
    "동굴에서 빠져나오진 못한 존재는 엄청난 촉수를 가진 거대 외계인으로 보입니다. 외계인은 당신을 보며 군침을 흘리고 있습니다. 빠르게 이곳을 탈출해 섬의 반대편으로 도망가야 합니다.\n",
    "\n",
    "배를 타고 빠르게 벗어나기 위해 우선 파도를 파악해야합니다.\n",
    "\n",
    "파도가 일정한 간격으로 오고 있음을 발견했습니다.\n",
    "\n",
    "5분 동안 20번의 파도가 왔다면, 파도 한 번이 오는 데 걸리는 평균 시간을 구하세요.\n",
    "\n",
    "<br>"
   ]
  },
  {
   "cell_type": "code",
   "execution_count": null,
   "metadata": {
    "colab": {
     "base_uri": "https://localhost:8080/"
    },
    "executionInfo": {
     "elapsed": 4,
     "status": "ok",
     "timestamp": 1744788736181,
     "user": {
      "displayName": "이설",
      "userId": "03239844998832066270"
     },
     "user_tz": -540
    },
    "id": "4ZGupO_2cKEe",
    "outputId": "ebcae75e-3e3c-4ee9-cf91-724cde74378f"
   },
   "outputs": [
    {
     "data": {
      "text/plain": [
       "15"
      ]
     },
     "execution_count": 13,
     "metadata": {},
     "output_type": "execute_result"
    }
   ],
   "source": [
    "(5 * 60) // 20"
   ]
  },
  {
   "cell_type": "markdown",
   "metadata": {
    "id": "nxdG-AJEcKEe"
   },
   "source": [
    "<br>\n",
    "\n",
    "__[문제 8: 폭포의 높이]__\n",
    "\n",
    "<br>\n",
    "\n",
    "섬의 반대편의 무사히 도착했습니다.\n",
    "\n",
    "거대한 폭포가 당신의 길을 가로 막고 있습니다.\n",
    "\n",
    "자세히 보니 폭포 위쪽에 반짝이는 무언가가 있습니다. 당신이 찾던 보물일 수 있습니다.\n",
    "\n",
    "마법 룬을 이용해 폭포의 높이를 구하고 폭포의 위로 올라갑니다.\n",
    "\n",
    "물방울이 떨어져 땅에 닿는 데 걸리는 시간은 2초입니다. 중력가속도는 9.8m/s²입니다.\n",
    "\n",
    "돌문을 열때 사용한 숫자를 이용해 폭포의 높이를 구하세요. (단, 공기저항은 무시합니다.)\n",
    "\n",
    "<br>\n",
    "\n",
    "\n",
    "__Tips__\n",
    "- 높이 = 0.5 * 중력가속도 * (시간 + 돌문의 숫자의 마지막 자리 수)²\n",
    "\n",
    "<br>"
   ]
  },
  {
   "cell_type": "code",
   "execution_count": null,
   "metadata": {
    "colab": {
     "base_uri": "https://localhost:8080/"
    },
    "executionInfo": {
     "elapsed": 7,
     "status": "ok",
     "timestamp": 1744788748620,
     "user": {
      "displayName": "이설",
      "userId": "03239844998832066270"
     },
     "user_tz": -540
    },
    "id": "j0gcgQYLcKEe",
    "outputId": "06c2e2b7-2299-4bbd-d9f0-1d018af864c9"
   },
   "outputs": [
    {
     "data": {
      "text/plain": [
       "122.50000000000001"
      ]
     },
     "execution_count": 14,
     "metadata": {},
     "output_type": "execute_result"
    }
   ],
   "source": [
    " 0.5 * 9.8 * ((2 + 3) ** 2)"
   ]
  },
  {
   "cell_type": "markdown",
   "metadata": {
    "id": "NP3AwABLcKEe"
   },
   "source": [
    "<br>\n",
    "\n",
    "__[최종 문제: 탈출 비밀번호]__\n",
    "\n",
    "<br>\n",
    "\n",
    "보물을 찾았습니다.\n",
    "\n",
    "\n",
    "\n",
    "\n",
    "\n",
    "\n",
    "쿠우에에이이이이이이\n",
    "\n",
    "\n",
    "에일리언이 당신을 쫓아왔습니다. 당신은 곧 에일리언의 좋은 영양소가 될 것 같습니다.\n",
    "\n",
    "당신은 지금 정신을 차리고 앞에 보이는 에일리언의 우주선을 뻇어 섬을 탈출해야합니다.\n",
    "\n",
    "우주선에 타기 위해서는 비밀번호를 입력해야 합니다.\n",
    "\n",
    "비밀번호는 현재 좌표의 첫 번째 숫자와 세 번째 숫자의 차와 같습니다.\n",
    "\n",
    "비밀번호를 알아내세요!\n",
    "\n",
    "<br>\n",
    "\n",
    "현재 좌표 : 32, 43, 128\n",
    "\n",
    "<br>"
   ]
  },
  {
   "cell_type": "code",
   "execution_count": null,
   "metadata": {
    "colab": {
     "base_uri": "https://localhost:8080/"
    },
    "executionInfo": {
     "elapsed": 44,
     "status": "ok",
     "timestamp": 1744788878024,
     "user": {
      "displayName": "이설",
      "userId": "03239844998832066270"
     },
     "user_tz": -540
    },
    "id": "ey-8z57kcKEe",
    "outputId": "a3f6c837-5e2e-419c-f4ad-4f85022f80ab"
   },
   "outputs": [
    {
     "name": "stdout",
     "output_type": "stream",
     "text": [
      "96\n"
     ]
    }
   ],
   "source": [
    "n1 = 32\n",
    "n3 = 128\n",
    "password = [n3, -n1]\n",
    "print(sum(password))"
   ]
  },
  {
   "cell_type": "markdown",
   "metadata": {
    "id": "M1UvH3fQcKEe"
   },
   "source": [
    "<br>\n",
    "\n",
    "당신은 생존했습니다.\n",
    "\n",
    "생존한 당신은 보물 상자를 열어봅니다.\n",
    "\n",
    "\n",
    "\n",
    "\n",
    "\n",
    "-----\n",
    " [편지]\n",
    "\n",
    " 오늘도 고생하셨습니다.\n",
    "\n",
    " 내일도 과제 있습니다. 여러분 : )\n",
    "\n",
    " -파머-\n",
    "\n",
    "\n",
    "---"
   ]
  },
  {
   "cell_type": "markdown",
   "metadata": {
    "id": "U7I5t7LocKEe"
   },
   "source": []
  }
 ],
 "metadata": {
  "colab": {
   "provenance": []
  },
  "kernelspec": {
   "display_name": "Python 3",
   "name": "python3"
  },
  "language_info": {
   "codemirror_mode": {
    "name": "ipython",
    "version": 3
   },
   "file_extension": ".py",
   "mimetype": "text/x-python",
   "name": "python",
   "nbconvert_exporter": "python",
   "pygments_lexer": "ipython3",
   "version": "3.12.3"
  }
 },
 "nbformat": 4,
 "nbformat_minor": 0
}
